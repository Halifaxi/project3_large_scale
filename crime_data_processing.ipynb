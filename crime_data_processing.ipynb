{
 "cells": [
  {
   "cell_type": "code",
   "execution_count": 16,
   "metadata": {},
   "outputs": [],
   "source": [
    "import pandas as pd\n",
    "import numpy as np\n",
    "import seaborn as sns\n",
    "import matplotlib.pyplot as plt \n",
    "import os\n",
    "import glob\n",
    "from sklearn.linear_model import LogisticRegression\n",
    "from sklearn.preprocessing import StandardScaler\n",
    "from sklearn import linear_model\n",
    "from sklearn.model_selection import train_test_split\n",
    "from sklearn.metrics import RocCurveDisplay"
   ]
  },
  {
   "cell_type": "code",
   "execution_count": 9,
   "metadata": {},
   "outputs": [],
   "source": [
    "all_files = glob.glob(os.path.join('csv/', \"*.csv\"))\n",
    "df = pd.concat((pd.read_csv(f, low_memory=False) for f in all_files))\n",
    "df.columns = df.columns.str.lower()\n",
    "df.columns = df.columns.str.replace('-', '_')\n",
    "df.drop('unnamed: 64', axis=1, inplace=True)\n",
    "\n",
    "# Turn dates into datetime.\n",
    "date_cols = df.columns[df.columns.str.contains('date')]\n",
    "for col in date_cols:\n",
    "    df[col] = pd.to_datetime(df[col], errors='coerce')\n",
    "\n",
    "def original_sentence_format(x):\n",
    "    try:\n",
    "        year = int(x[:3])\n",
    "        month = int(x[5:7]) / 12\n",
    "        day = int(x[10:12]) / 365\n",
    "        return year + month + day\n",
    "    except:\n",
    "        return 0\n",
    "\n",
    "df['original_sentence'] = df.original_sentence.apply(original_sentence_format)\n",
    "df['was_sentenced'] = (df.original_sentence >= 1) * 1\n",
    "df['age'] = df.case_date.apply(lambda x: x.year) - df.birthdate.apply(lambda x: x.year)\n",
    "df = df.dropna(subset='age')\n",
    "df.offense_type.replace(df.offense_type.value_counts()[14:].index, 'None', inplace=True)\n",
    "df['year'] = df.offense_date.apply(lambda x: x.year)\n",
    "\n",
    "def format_decade(year):\n",
    "    previous_decade = 1900\n",
    "    for current_decade in range(1960, 2030, 10):\n",
    "        if (year > previous_decade) and (year <= current_decade):\n",
    "            return int(current_decade)\n",
    "        previous_decade = current_decade\n",
    "df['decade'] = df.year.apply(lambda x: format_decade(x))\n",
    "df.reset_index(drop=True, inplace=True)\n",
    "\n",
    "df = df[['was_sentenced', 'original_sentence', 'age', 'offense_type', 'race', 'sex', 'addr_zip_code', 'decade', ]]\n",
    "df = pd.get_dummies(df,columns=['sex', 'race', 'offense_type', 'decade'], drop_first=True)"
   ]
  },
  {
   "cell_type": "code",
   "execution_count": 10,
   "metadata": {},
   "outputs": [
    {
     "name": "stdout",
     "output_type": "stream",
     "text": [
      "There are 4747 unique Zip Codes in the data\n"
     ]
    },
    {
     "data": {
      "text/plain": [
       "78207    33319\n",
       "0        30313\n",
       "78237    17552\n",
       "78228    16874\n",
       "78210    15589\n",
       "         ...  \n",
       "76116       22\n",
       "78722       22\n",
       "78384       22\n",
       "78736       22\n",
       "77590       22\n",
       "Name: addr_zip_code, Length: 300, dtype: int64"
      ]
     },
     "execution_count": 10,
     "metadata": {},
     "output_type": "execute_result"
    }
   ],
   "source": [
    "print(f'There are {df.addr_zip_code.nunique()} unique Zip Codes in the data')\n",
    "df.addr_zip_code.value_counts()[:300]"
   ]
  },
  {
   "cell_type": "markdown",
   "metadata": {},
   "source": [
    "Use this website to extract zip code information: http://www.city-data.com/zips/78207.html\n",
    "\n",
    "1st goal, predicting the time of the sentence (regression) - use subset of those who were sentenced.\n",
    "2nd goal, categorical variable depending if they were sentenced or not. "
   ]
  },
  {
   "cell_type": "markdown",
   "metadata": {},
   "source": [
    "### Regression: How long are they sentenced for"
   ]
  },
  {
   "cell_type": "code",
   "execution_count": 22,
   "metadata": {},
   "outputs": [],
   "source": [
    "y = df['original_sentence']\n",
    "X = df[df.columns[2:]]\n",
    "\n",
    "X_train, X_test, y_train, y_test = train_test_split(X, y, test_size=0.33, random_state=42)\n",
    "scaler = StandardScaler()\n",
    "X_train = scaler.fit_transform(X_train)\n",
    "X_test = scaler.transform(X_test)\n",
    "lasso = linear_model.Lasso(alpha=0.2)\n",
    "lasso = lasso.fit(X_train,y_train)"
   ]
  },
  {
   "cell_type": "code",
   "execution_count": 23,
   "metadata": {},
   "outputs": [
    {
     "data": {
      "text/plain": [
       "0.15996795045830436"
      ]
     },
     "execution_count": 23,
     "metadata": {},
     "output_type": "execute_result"
    }
   ],
   "source": [
    "lasso.score(X_test, y_test)"
   ]
  },
  {
   "cell_type": "code",
   "execution_count": 24,
   "metadata": {},
   "outputs": [
    {
     "data": {
      "text/plain": [
       "array([-0.        , -0.        , -0.        ,  0.02310246, -0.        ,\n",
       "       -0.        ,  0.        , -0.        ,  0.        , -0.        ,\n",
       "       -0.        ,  0.        , -0.        , -0.        , -0.02824699,\n",
       "        0.        , -0.        , -0.        ,  1.52879317,  0.32597424,\n",
       "       -0.        ,  0.04176476, -0.64335801, -0.        , -0.07608304,\n",
       "       -0.        , -0.        , -0.        , -0.        , -0.        ,\n",
       "       -0.13152157,  0.40770381,  0.47510155,  0.        , -0.0572151 ])"
      ]
     },
     "execution_count": 24,
     "metadata": {},
     "output_type": "execute_result"
    }
   ],
   "source": [
    "lasso.coef_"
   ]
  },
  {
   "cell_type": "code",
   "execution_count": null,
   "metadata": {},
   "outputs": [],
   "source": []
  },
  {
   "cell_type": "markdown",
   "metadata": {},
   "source": [
    "### Classification: Are they sentenced or not"
   ]
  },
  {
   "cell_type": "code",
   "execution_count": 35,
   "metadata": {},
   "outputs": [],
   "source": [
    "X = df.drop(['target', 'addr_zip_code'], axis=1)\n",
    "y = df.target\n",
    "X_train, X_test, y_train, y_test = train_test_split(X, y, test_size=0.33, random_state=42)\n",
    "scaler = StandardScaler()\n",
    "X_train = scaler.fit_transform(X_train)\n",
    "X_test = scaler.transform(X_test)\n",
    "clf = LogisticRegression()\n",
    "clf = clf.fit(X_train,y_train)"
   ]
  },
  {
   "cell_type": "code",
   "execution_count": 50,
   "metadata": {},
   "outputs": [
    {
     "name": "stdout",
     "output_type": "stream",
     "text": [
      "Classifier Score on Test Set 0.67\n"
     ]
    }
   ],
   "source": [
    "print(f'Classifier Score on Test Set {round(clf.score(X_test, y_test),3)}')"
   ]
  },
  {
   "cell_type": "code",
   "execution_count": 47,
   "metadata": {},
   "outputs": [
    {
     "data": {
      "image/png": "[encoded data removed]",
      "text/plain": [
       "<Figure size 432x288 with 1 Axes>"
      ]
     },
     "metadata": {
      "needs_background": "light"
     },
     "output_type": "display_data"
    }
   ],
   "source": [
    "RocCurveDisplay.from_predictions(y_test, clf.decision_function(X_test));"
   ]
  },
  {
   "cell_type": "code",
   "execution_count": 56,
   "metadata": {},
   "outputs": [
    {
     "data": {
      "text/plain": [
       "<AxesSubplot:>"
      ]
     },
     "execution_count": 56,
     "metadata": {},
     "output_type": "execute_result"
    },
    {
     "data": {
      "image/png": "[encoded data removed]",
      "text/plain": [
       "<Figure size 432x288 with 1 Axes>"
      ]
     },
     "metadata": {
      "needs_background": "light"
     },
     "output_type": "display_data"
    }
   ],
   "source": [
    "pd.DataFrame(clf.coef_.T, X.columns, columns=['coef']).sort_values(by='coef', ascending=False).plot.bar()"
   ]
  },
  {
   "cell_type": "code",
   "execution_count": 57,
   "metadata": {},
   "outputs": [
    {
     "data": {
      "text/html": [
       "<div>\n",
       "<style scoped>\n",
       "    .dataframe tbody tr th:only-of-type {\n",
       "        vertical-align: middle;\n",
       "    }\n",
       "\n",
       "    .dataframe tbody tr th {\n",
       "        vertical-align: top;\n",
       "    }\n",
       "\n",
       "    .dataframe thead th {\n",
       "        text-align: right;\n",
       "    }\n",
       "</style>\n",
       "<table border=\"1\" class=\"dataframe\">\n",
       "  <thead>\n",
       "    <tr style=\"text-align: right;\">\n",
       "      <th></th>\n",
       "      <th>coef</th>\n",
       "    </tr>\n",
       "  </thead>\n",
       "  <tbody>\n",
       "    <tr>\n",
       "      <th>decade_2000.0</th>\n",
       "      <td>0.957517</td>\n",
       "    </tr>\n",
       "    <tr>\n",
       "      <th>decade_2010.0</th>\n",
       "      <td>0.954725</td>\n",
       "    </tr>\n",
       "    <tr>\n",
       "      <th>decade_2020.0</th>\n",
       "      <td>0.774692</td>\n",
       "    </tr>\n",
       "    <tr>\n",
       "      <th>race_L</th>\n",
       "      <td>0.759583</td>\n",
       "    </tr>\n",
       "    <tr>\n",
       "      <th>sex_F</th>\n",
       "      <td>0.696425</td>\n",
       "    </tr>\n",
       "    <tr>\n",
       "      <th>decade_1990.0</th>\n",
       "      <td>0.678942</td>\n",
       "    </tr>\n",
       "    <tr>\n",
       "      <th>sex_M</th>\n",
       "      <td>0.666590</td>\n",
       "    </tr>\n",
       "    <tr>\n",
       "      <th>race_W</th>\n",
       "      <td>0.624948</td>\n",
       "    </tr>\n",
       "    <tr>\n",
       "      <th>race_B</th>\n",
       "      <td>0.492812</td>\n",
       "    </tr>\n",
       "    <tr>\n",
       "      <th>offense_type_F3</th>\n",
       "      <td>0.441518</td>\n",
       "    </tr>\n",
       "    <tr>\n",
       "      <th>offense_type_F2</th>\n",
       "      <td>0.382690</td>\n",
       "    </tr>\n",
       "    <tr>\n",
       "      <th>offense_type_F1</th>\n",
       "      <td>0.358663</td>\n",
       "    </tr>\n",
       "    <tr>\n",
       "      <th>decade_1980.0</th>\n",
       "      <td>0.170253</td>\n",
       "    </tr>\n",
       "    <tr>\n",
       "      <th>offense_type_FS</th>\n",
       "      <td>0.098761</td>\n",
       "    </tr>\n",
       "    <tr>\n",
       "      <th>race_O</th>\n",
       "      <td>0.070963</td>\n",
       "    </tr>\n",
       "    <tr>\n",
       "      <th>offense_type_F*</th>\n",
       "      <td>0.057530</td>\n",
       "    </tr>\n",
       "    <tr>\n",
       "      <th>race_A</th>\n",
       "      <td>0.033799</td>\n",
       "    </tr>\n",
       "    <tr>\n",
       "      <th>race_U</th>\n",
       "      <td>0.024775</td>\n",
       "    </tr>\n",
       "    <tr>\n",
       "      <th>race_I</th>\n",
       "      <td>0.023444</td>\n",
       "    </tr>\n",
       "    <tr>\n",
       "      <th>race_H</th>\n",
       "      <td>0.020678</td>\n",
       "    </tr>\n",
       "    <tr>\n",
       "      <th>race_C</th>\n",
       "      <td>0.009656</td>\n",
       "    </tr>\n",
       "    <tr>\n",
       "      <th>decade_1970.0</th>\n",
       "      <td>0.004017</td>\n",
       "    </tr>\n",
       "    <tr>\n",
       "      <th>offense_type_None</th>\n",
       "      <td>-0.000940</td>\n",
       "    </tr>\n",
       "    <tr>\n",
       "      <th>offense_type_F-</th>\n",
       "      <td>-0.003580</td>\n",
       "    </tr>\n",
       "    <tr>\n",
       "      <th>offense_type_U</th>\n",
       "      <td>-0.005378</td>\n",
       "    </tr>\n",
       "    <tr>\n",
       "      <th>offense_type_F0</th>\n",
       "      <td>-0.015289</td>\n",
       "    </tr>\n",
       "    <tr>\n",
       "      <th>offense_type_M</th>\n",
       "      <td>-0.021601</td>\n",
       "    </tr>\n",
       "    <tr>\n",
       "      <th>race_J</th>\n",
       "      <td>-0.038370</td>\n",
       "    </tr>\n",
       "    <tr>\n",
       "      <th>offense_type_MB</th>\n",
       "      <td>-0.043857</td>\n",
       "    </tr>\n",
       "    <tr>\n",
       "      <th>offense_type_FC</th>\n",
       "      <td>-0.050616</td>\n",
       "    </tr>\n",
       "    <tr>\n",
       "      <th>sex_U</th>\n",
       "      <td>-0.055085</td>\n",
       "    </tr>\n",
       "    <tr>\n",
       "      <th>age</th>\n",
       "      <td>-0.065288</td>\n",
       "    </tr>\n",
       "    <tr>\n",
       "      <th>offense_type_MA</th>\n",
       "      <td>-0.077751</td>\n",
       "    </tr>\n",
       "    <tr>\n",
       "      <th>offense_type_MC</th>\n",
       "      <td>-0.314502</td>\n",
       "    </tr>\n",
       "  </tbody>\n",
       "</table>\n",
       "</div>"
      ],
      "text/plain": [
       "                       coef\n",
       "decade_2000.0      0.957517\n",
       "decade_2010.0      0.954725\n",
       "decade_2020.0      0.774692\n",
       "race_L             0.759583\n",
       "sex_F              0.696425\n",
       "decade_1990.0      0.678942\n",
       "sex_M              0.666590\n",
       "race_W             0.624948\n",
       "race_B             0.492812\n",
       "offense_type_F3    0.441518\n",
       "offense_type_F2    0.382690\n",
       "offense_type_F1    0.358663\n",
       "decade_1980.0      0.170253\n",
       "offense_type_FS    0.098761\n",
       "race_O             0.070963\n",
       "offense_type_F*    0.057530\n",
       "race_A             0.033799\n",
       "race_U             0.024775\n",
       "race_I             0.023444\n",
       "race_H             0.020678\n",
       "race_C             0.009656\n",
       "decade_1970.0      0.004017\n",
       "offense_type_None -0.000940\n",
       "offense_type_F-   -0.003580\n",
       "offense_type_U    -0.005378\n",
       "offense_type_F0   -0.015289\n",
       "offense_type_M    -0.021601\n",
       "race_J            -0.038370\n",
       "offense_type_MB   -0.043857\n",
       "offense_type_FC   -0.050616\n",
       "sex_U             -0.055085\n",
       "age               -0.065288\n",
       "offense_type_MA   -0.077751\n",
       "offense_type_MC   -0.314502"
      ]
     },
     "execution_count": 57,
     "metadata": {},
     "output_type": "execute_result"
    }
   ],
   "source": [
    "pd.DataFrame(clf.coef_.T, X.columns, columns=['coef']).sort_values(by='coef', ascending=False)"
   ]
  }
 ],
 "metadata": {
  "interpreter": {
   "hash": "d5a7239ccbffb0dba5d28d57b58704aeca55bb62a74e850a927767a74d4cae8b"
  },
  "kernelspec": {
   "display_name": "Python 3.10.4 ('mpi')",
   "language": "python",
   "name": "python3"
  },
  "language_info": {
   "codemirror_mode": {
    "name": "ipython",
    "version": 3
   },
   "file_extension": ".py",
   "mimetype": "text/x-python",
   "name": "python",
   "nbconvert_exporter": "python",
   "pygments_lexer": "ipython3",
   "version": "3.10.4"
  },
  "orig_nbformat": 4
 },
 "nbformat": 4,
 "nbformat_minor": 2
}
