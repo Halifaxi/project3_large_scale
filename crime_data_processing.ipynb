{
 "cells": [
  {
   "cell_type": "code",
   "execution_count": 125,
   "metadata": {},
   "outputs": [],
   "source": [
    "import pandas as pd\n",
    "import numpy as np\n",
    "import seaborn as sns\n",
    "import matplotlib.pyplot as plt \n",
    "import os\n",
    "import glob"
   ]
  },
  {
   "cell_type": "code",
   "execution_count": 126,
   "metadata": {},
   "outputs": [
    {
     "name": "stderr",
     "output_type": "stream",
     "text": [
      "/var/folders/7b/prbmv40d5wg4ymrn9dr3c76c0000gn/T/ipykernel_4771/1850306438.py:2: DtypeWarning: Columns (18) have mixed types. Specify dtype option on import or set low_memory=False.\n",
      "  df = pd.concat((pd.read_csv(f) for f in all_files))\n",
      "/var/folders/7b/prbmv40d5wg4ymrn9dr3c76c0000gn/T/ipykernel_4771/1850306438.py:2: DtypeWarning: Columns (18) have mixed types. Specify dtype option on import or set low_memory=False.\n",
      "  df = pd.concat((pd.read_csv(f) for f in all_files))\n",
      "/var/folders/7b/prbmv40d5wg4ymrn9dr3c76c0000gn/T/ipykernel_4771/1850306438.py:2: DtypeWarning: Columns (18) have mixed types. Specify dtype option on import or set low_memory=False.\n",
      "  df = pd.concat((pd.read_csv(f) for f in all_files))\n",
      "/var/folders/7b/prbmv40d5wg4ymrn9dr3c76c0000gn/T/ipykernel_4771/1850306438.py:2: DtypeWarning: Columns (18) have mixed types. Specify dtype option on import or set low_memory=False.\n",
      "  df = pd.concat((pd.read_csv(f) for f in all_files))\n"
     ]
    }
   ],
   "source": [
    "all_files = glob.glob(os.path.join('csv/', \"*.csv\"))\n",
    "df = pd.concat((pd.read_csv(f) for f in all_files))\n",
    "df.columns = df.columns.str.lower()\n",
    "df.columns = df.columns.str.replace('-', '_')\n",
    "df.drop('unnamed: 64', axis=1, inplace=True)\n",
    "\n",
    "# Turn dates into datetime.\n",
    "date_cols = df.columns[df.columns.str.contains('date')]\n",
    "for col in date_cols:\n",
    "    df[col] = pd.to_datetime(df[col], errors='coerce')\n",
    "\n",
    "def original_sentence_format(x):\n",
    "    try:\n",
    "        year = int(x[:3])\n",
    "        month = int(x[5:7]) / 12\n",
    "        day = int(x[10:12]) / 365\n",
    "        return year + month + day\n",
    "    except:\n",
    "        return np.nan\n",
    "df['original_sentence'] = df.original_sentence.apply(original_sentence_format)"
   ]
  },
  {
   "cell_type": "code",
   "execution_count": 132,
   "metadata": {},
   "outputs": [
    {
     "data": {
      "text/plain": [
       "Index(['case_cause_nbr', 'full_name', 'alias', 'sex', 'race', 'birthdate',\n",
       "       'sid', 'judicial_nbr', 'addr_house_nbr', 'house_suf',\n",
       "       'addr_pre_direction', 'addr_street', 'addr_street_suffix',\n",
       "       'addr_post_direction', 'addr_unit', 'addr_city', 'addr_state',\n",
       "       'addr_zip_code', 'addr_zip_plus_4', 'offense_date', 'offense_code',\n",
       "       'offense_desc', 'offense_type', 'reduced_offense_code',\n",
       "       'reduced_offense_desc', 'reduced_offense_type', 'location',\n",
       "       'custody_date', 'complaint_date', 'filing_agency_description',\n",
       "       'case_date', 'case_desc', 'setting_date', 'setting_type', 'g_jury_date',\n",
       "       'g_jury_status', 'disposition_date', 'disposition_code',\n",
       "       'disposition_desc', 'judgement_date', 'judgement_code',\n",
       "       'judgement_desc', 'sentence_desc', 'sentence', 'sentence_start_date',\n",
       "       'sentence_end_date', 'fine_amount', 'court_costs', 'court_type',\n",
       "       'court', 'post_judicial_field', 'post_judicial_date', 'bond_date',\n",
       "       'bond_status', 'bond_amount', 'bondsman_name', 'attorney',\n",
       "       'attorney_bar_nbr', 'attorney_appointed_retained', 'intake_prosecutor',\n",
       "       'outtake_prosecutor', 'probation_prosecutor', 'revokation_prosecutor',\n",
       "       'original_sentence'],\n",
       "      dtype='object')"
      ]
     },
     "execution_count": 132,
     "metadata": {},
     "output_type": "execute_result"
    }
   ],
   "source": [
    "df.columns"
   ]
  },
  {
   "cell_type": "markdown",
   "metadata": {},
   "source": [
    "1st goal predicting the time of the sentence (regression) - use subset of those who were sentenced.\n",
    "\n",
    "2nd categorical variable if they were sentenced or not. "
   ]
  },
  {
   "cell_type": "code",
   "execution_count": null,
   "metadata": {},
   "outputs": [],
   "source": [
    "from sklearn import linear_model\n",
    "clf = linear_model.Lasso(alpha=0.1)\n",
    "\n",
    "original_sentence >= 1 "
   ]
  },
  {
   "cell_type": "code",
   "execution_count": 131,
   "metadata": {},
   "outputs": [
    {
     "data": {
      "text/plain": [
       "(array([0, 0, 0, ..., 4, 0, 0]),\n",
       " Index(['F3', 'F1', 'F2', 'F ', 'FS', 'MA', 'F*', 'MC', 'FC', 'MB', 'F-', '  ',\n",
       "        'M ', 'F0', 'FA', 'FE', 'FQ', 'U ', 'M-', 'FI', ' 1'],\n",
       "       dtype='object'))"
      ]
     },
     "execution_count": 131,
     "metadata": {},
     "output_type": "execute_result"
    }
   ],
   "source": [
    "df.offense_type.factorize()"
   ]
  },
  {
   "cell_type": "code",
   "execution_count": null,
   "metadata": {},
   "outputs": [],
   "source": []
  }
 ],
 "metadata": {
  "interpreter": {
   "hash": "d5a7239ccbffb0dba5d28d57b58704aeca55bb62a74e850a927767a74d4cae8b"
  },
  "kernelspec": {
   "display_name": "Python 3.10.4 ('mpi')",
   "language": "python",
   "name": "python3"
  },
  "language_info": {
   "codemirror_mode": {
    "name": "ipython",
    "version": 3
   },
   "file_extension": ".py",
   "mimetype": "text/x-python",
   "name": "python",
   "nbconvert_exporter": "python",
   "pygments_lexer": "ipython3",
   "version": "3.10.4"
  },
  "orig_nbformat": 4
 },
 "nbformat": 4,
 "nbformat_minor": 2
}
